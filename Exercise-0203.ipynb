{
 "cells": [
  {
   "cell_type": "code",
   "execution_count": 1,
   "metadata": {},
   "outputs": [
    {
     "name": "stdout",
     "output_type": "stream",
     "text": [
      "Audry Angelina\n",
      "I0322018\n",
      "A\n"
     ]
    }
   ],
   "source": [
    "print(input(\"Nama: \"))\n",
    "print(input(\"NIM: \"))\n",
    "print(input(\"Kelas: \"))"
   ]
  },
  {
   "attachments": {},
   "cell_type": "markdown",
   "metadata": {},
   "source": [
    "buatlah program sederhana untuk menghitung umur pengguna dengan ketentuan sebagai berikut :\n",
    "* Program meminta pengguna memasukan tanggal, bulan, dan tahun lahir\n",
    "* Program menghitung umur pengguna hingga tanggal 1 januari 2023\n",
    "* Program menampilkan umur dari pengguna"
   ]
  },
  {
   "cell_type": "code",
   "execution_count": 21,
   "metadata": {},
   "outputs": [
    {
     "name": "stdout",
     "output_type": "stream",
     "text": [
      "tanggal lahir anda 1-1-2003\n",
      "umur anda adalah 20 tahun\n"
     ]
    }
   ],
   "source": [
    "# Menghitung umur pengguna\n",
    "tanggal_lahir = int(input(\"masukkan tanggal kelahiran anda = \"))\n",
    "bulan_lahir = int(input(\"masukkan bulan kelahiran anda = \"))\n",
    "tahun_lahir = int(input(\"masukkan tahun kelahiran anda = \"))\n",
    "\n",
    "tahun_sekarang = 2023\n",
    "\n",
    "if bulan_lahir == 1:\n",
    "    if tanggal_lahir ==1:\n",
    "        umur = int(tahun_sekarang - tahun_lahir)\n",
    "    else: umur = int(tahun_sekarang - tahun_lahir - 1)\n",
    "else: umur = int(tahun_sekarang - tahun_lahir - 1)\n",
    "\n",
    "print(f'tanggal lahir anda {tanggal_lahir}-{bulan_lahir}-{tahun_lahir}')\n",
    "print(f'umur anda adalah {umur} tahun')"
   ]
  },
  {
   "attachments": {},
   "cell_type": "markdown",
   "metadata": {},
   "source": [
    "## 2."
   ]
  },
  {
   "attachments": {},
   "cell_type": "markdown",
   "metadata": {},
   "source": [
    "Pada 2015, wabah flu burung menyerang Indonesia dan beberapa peternak ayam mengalami kerugian karena banyaknya ayam yang mati. Setiap bulan, jumlah ayamnya berkurang menjadi setengah. Setelah dua bulan, jumlah ayam yang tersisa adalah 200 ekor. Hitunglah jumlah ayam sebelumnya yang dimiliki peternak tersebut! (gunakan rumus deret geometri)\n",
    "\n",
    "> *note: SOAL DIATAS DIKERJAKAN SESUAI DENGAN RUMUS BAKU*"
   ]
  },
  {
   "cell_type": "code",
   "execution_count": 26,
   "metadata": {},
   "outputs": [
    {
     "name": "stdout",
     "output_type": "stream",
     "text": [
      "Jadi jumlah ayam yang dimiliki peternak mula-mula sebanyak 800 ekor\n"
     ]
    }
   ],
   "source": [
    "Un = 200\n",
    "r = 0.5\n",
    "n = 3\n",
    "\n",
    "a = int(Un/r**(n-1))\n",
    "print(f'Jadi jumlah ayam yang dimiliki peternak mula-mula sebanyak {a} ekor')"
   ]
  },
  {
   "attachments": {},
   "cell_type": "markdown",
   "metadata": {},
   "source": [
    "## 3. "
   ]
  },
  {
   "attachments": {},
   "cell_type": "markdown",
   "metadata": {},
   "source": [
    "* **A** Hitunglah luas Prisma Segitiga dengan ketentuan sebagai berikut:\n",
    "    * Alas dan tutup prisma merupakan segitiga\n",
    "    * Terdapat 3 persegi panjang yang menyinggung alas dan tutup prisma\n",
    "    * Sisi persegi panjang yang menyinggung segitiga adalah sisi lebar\n",
    "```python\n",
    "    dictionary_figure = {\"Persegi\":{\"Sisi\":22},\n",
    "                        \"Persegi Panjang\":{\"Panjang\":10,\"Lebar\":5},\n",
    "                        \"Segitiga Sama Sisi\":{\"Sisi\":6,\"Tinggi\":3**(1/2) * 3},\n",
    "                        \"Lingkaran\":{\"Diameter\":7}}\n",
    "```\n",
    "* **B** Hitunglah luas Tabung dengan ketentuan sebagai berikut:\n",
    "    * Alas dan tutup tabung merupakan lingkaran\n",
    "    * Terdapat 1 persegi yang menyinggung alas dan tutup tabung\n",
    "    * Persegi yang ada mengelilingi lingkaran hingga sisi dari persegi saling bertemu\n",
    "\n",
    "> *note: Pada soal ini kalian hanya boleh menggunakan key-value pair dan index pada list. Tidak diperbolehkan menulis secara langsung dimensi dari figure*"
   ]
  },
  {
   "cell_type": "code",
   "execution_count": 31,
   "metadata": {},
   "outputs": [
    {
     "name": "stdout",
     "output_type": "stream",
     "text": [
      "luas prisma segitiga adallah 181.1769145362398\n",
      "luas tabung adalah 560.9300000000001\n"
     ]
    }
   ],
   "source": [
    "dictionary_figure = {\"Persegi\":{\"Sisi\":22},\n",
    "                    \"Persegi Panjang\":{\"Panjang\":10,\"Lebar\":5},\n",
    "                    \"Segitiga Sama Sisi\":{\"Sisi\":6,\"Tinggi\":3**(1/2) * 3},\n",
    "                    \"Lingkaran\":{\"Diameter\":7}}\n",
    "\n",
    "# Menghitung luas prisma segitiga\n",
    "luas_segitiga = 1/2 * (dictionary_figure[\"Segitiga Sama Sisi\"][\"Sisi\"]) * (dictionary_figure[\"Segitiga Sama Sisi\"][\"Tinggi\"])\n",
    "luas_persegi_panjang = (dictionary_figure[\"Persegi Panjang\"][\"Panjang\"]) * (dictionary_figure[\"Persegi Panjang\"][\"Lebar\"])\n",
    "luas_prisma_segitiga = 2 * luas_segitiga + 3 * luas_persegi_panjang\n",
    "\n",
    "print(f'luas prisma segitiga adallah {luas_prisma_segitiga}')\n",
    "\n",
    "# Menghitung luas tabung\n",
    "phi = 3.14\n",
    "luas_lingkaran = phi * (1/2 * (dictionary_figure[\"Lingkaran\"][\"Diameter\"]))**2\n",
    "luas_persegi = (dictionary_figure[\"Persegi\"][\"Sisi\"])**2\n",
    "luas_tabung = 2 * luas_lingkaran + luas_persegi\n",
    "\n",
    "print(f'luas tabung adalah {luas_tabung}')"
   ]
  }
 ],
 "metadata": {
  "kernelspec": {
   "display_name": "Python 3",
   "language": "python",
   "name": "python3"
  },
  "language_info": {
   "codemirror_mode": {
    "name": "ipython",
    "version": 3
   },
   "file_extension": ".py",
   "mimetype": "text/x-python",
   "name": "python",
   "nbconvert_exporter": "python",
   "pygments_lexer": "ipython3",
   "version": "3.10.8"
  },
  "orig_nbformat": 4,
  "vscode": {
   "interpreter": {
    "hash": "5addf786bcd861d1ce5006f23111f8cbb206731e5b61b0a5632ba9e0252558a8"
   }
  }
 },
 "nbformat": 4,
 "nbformat_minor": 2
}
