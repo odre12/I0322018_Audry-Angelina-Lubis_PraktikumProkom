{
 "cells": [
  {
   "cell_type": "code",
   "execution_count": 1,
   "metadata": {},
   "outputs": [
    {
     "name": "stdout",
     "output_type": "stream",
     "text": [
      "Audry Angelina Lubis\n",
      "I0322018\n",
      "A\n"
     ]
    }
   ],
   "source": [
    "print(input(\"Nama: \"))\n",
    "print(input(\"NIM: \"))\n",
    "print(input(\"Kelas: \"))"
   ]
  },
  {
   "attachments": {},
   "cell_type": "markdown",
   "metadata": {},
   "source": [
    "## 1."
   ]
  },
  {
   "attachments": {},
   "cell_type": "markdown",
   "metadata": {},
   "source": [
    "Buatlah program persyaratan pembuatan SIM dengan input yaitu nama user, umur user, dan nilai tes user.<br>\n",
    "Dengan ketentuan mendapat SIM sebagai berikut:\n",
    "* Umur dari user harus lebih dari sama dengan 17 tahun\n",
    "* Nilai tes lebih dari sama dengan 70\n",
    "\n",
    "<br>Output yang dihasilkan dari program adalah:\n",
    "<br>\"Selamat Anda Berhak Mendapatkan SIM Anda\"\n",
    "<br>\"Maaf, Anda tidak berhak mendapatkan SIM anda\"\n",
    "> *note: Kerjakan soal ini dengan percabangan*"
   ]
  },
  {
   "cell_type": "code",
   "execution_count": 2,
   "metadata": {},
   "outputs": [
    {
     "name": "stdout",
     "output_type": "stream",
     "text": [
      "Audry\n",
      "18\n",
      "69\n",
      "Maaf, Anda tidak berhak mendapatkan SIM anda\n"
     ]
    }
   ],
   "source": [
    "# Kerjakan soal no 1 di sini\n",
    "\n",
    "nama_user = str(input(\"Masukkan nama: \"))\n",
    "umur_user = int(input(\"Masukkan umur: \"))\n",
    "nilai_tes = int(input(\"Masukkan nilai tes: \"))\n",
    "\n",
    "print(nama_user)\n",
    "print(umur_user)\n",
    "print(nilai_tes)\n",
    "\n",
    "if umur_user >= 17 and nilai_tes >= 70:\n",
    "    print(\"Selamat Anda Berhak Mendapatkan SIM Anda\")\n",
    "else:\n",
    "    print(\"Maaf, Anda tidak berhak mendapatkan SIM anda\")"
   ]
  },
  {
   "attachments": {},
   "cell_type": "markdown",
   "metadata": {},
   "source": [
    "## 2."
   ]
  },
  {
   "attachments": {},
   "cell_type": "markdown",
   "metadata": {},
   "source": [
    "Buatlah program untuk mencari bilangan terbesar yang diinput dari user.<br>\n",
    "<br>Dengan ketentuan sebagai berikut:\n",
    "* Program nenerima 3 input bilangan dari user\n",
    "* Program akan menentukan mana bilangan terbesar\n",
    "* Output yang akan dihasilkan misalnya adalah \"Dari bil_1, bil_2, dan bil_3, bilangan terbesarnya adalah bilangan bil_2\"\n",
    "> *note: Kerjakan soal ini dengan percabangan*"
   ]
  },
  {
   "cell_type": "code",
   "execution_count": 3,
   "metadata": {},
   "outputs": [
    {
     "name": "stdout",
     "output_type": "stream",
     "text": [
      "Dari bilangan 8, 2, 11, bilangan terbesarnya adalah 11\n"
     ]
    }
   ],
   "source": [
    "# Kerjakan soal nomor 2 disini\n",
    "\n",
    "bil_1 = int(input(\"Masukkan bilangan pertama: \"))\n",
    "bil_2 = int(input(\"Masukkan bilangan kedua: \"))\n",
    "bil_3 = int(input(\"Masukkan bilangan ketiga: \"))\n",
    "\n",
    "if bil_1 >= bil_2 and bil_1 >= bil_3:\n",
    "  print(f\"Dari bilangan {bil_1}, {bil_2}, {bil_3}, bilangan terbesarnya adalah {bil_1}\")\n",
    "elif bil_2 >= bil_1 and bil_2 >= bil_3:\n",
    "  print(f\"Dari bilangan {bil_1}, {bil_2}, {bil_3}, bilangan terbesarnya adalah {bil_2}\")\n",
    "else:\n",
    "  print(f\"Dari bilangan {bil_1}, {bil_2}, {bil_3}, bilangan terbesarnya adalah {bil_3}\")"
   ]
  }
 ],
 "metadata": {
  "kernelspec": {
   "display_name": "Python 3",
   "language": "python",
   "name": "python3"
  },
  "language_info": {
   "codemirror_mode": {
    "name": "ipython",
    "version": 3
   },
   "file_extension": ".py",
   "mimetype": "text/x-python",
   "name": "python",
   "nbconvert_exporter": "python",
   "pygments_lexer": "ipython3",
   "version": "3.10.8"
  },
  "orig_nbformat": 4
 },
 "nbformat": 4,
 "nbformat_minor": 2
}
