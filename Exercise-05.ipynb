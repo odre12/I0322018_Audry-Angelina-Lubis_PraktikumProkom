{
 "cells": [
  {
   "attachments": {},
   "cell_type": "markdown",
   "metadata": {},
   "source": [
    "1. Buatlah program untuk menampilkan total penjumlahan bilangan ganjil dan total penjumlahan bilangan genap dengan input dari user berupa range (batas atas dan batas bawah)!"
   ]
  },
  {
   "cell_type": "code",
   "execution_count": 1,
   "metadata": {},
   "outputs": [
    {
     "name": "stdout",
     "output_type": "stream",
     "text": [
      "Total penjumlahan bilangan ganjil = 165\n",
      "Total penjumlahan bilangan genap = 154\n"
     ]
    }
   ],
   "source": [
    "# Kerjakan nomor 1 di sini\n",
    "batas_bawah = int(input(\"Masukkan batas bawah: \"))\n",
    "batas_atas = int(input(\"Masukkan batas atas: \"))\n",
    "\n",
    "jlh_bil_ganjil = 0\n",
    "jlh_bil_genap = 0\n",
    "\n",
    "for i in range(batas_bawah, batas_atas+1):\n",
    "    if i % 2 == 0:\n",
    "        jlh_bil_genap += i\n",
    "    else:\n",
    "        jlh_bil_ganjil += i\n",
    "\n",
    "print(\"Total penjumlahan bilangan ganjil =\", jlh_bil_ganjil)\n",
    "print(\"Total penjumlahan bilangan genap =\", jlh_bil_genap)"
   ]
  },
  {
   "attachments": {},
   "cell_type": "markdown",
   "metadata": {},
   "source": [
    "2. Buatlah sebuah list yang berisi daftar makanan khas daerah (minimal 10 makanan termasuk makanan khas Solo). Kemudian buat program pencarian menggunakan pengulangan. Apabila nama makanan yang user inputkan sudah sesuai dengan isi list maka program akan berhenti dan menampilkan output \"(makanan yang diinput user) adalah makanan khas daerah\"."
   ]
  },
  {
   "cell_type": "code",
   "execution_count": 2,
   "metadata": {},
   "outputs": [
    {
     "name": "stdout",
     "output_type": "stream",
     "text": [
      "rendang adalah makanan khas daerah.\n"
     ]
    }
   ],
   "source": [
    "# Kerjakan nomor 2 di sini\n",
    "makanan_daerah = [\"selat solo\", \"rendang\", \"sate madura\", \"pempek\", \"ayam betutu\", \"serabi bandung\", \"kerak telor\", \"papeda\", \"gudeg\", \"gado-gado\", \"bika ambon\", \"mie bangka\", \"tahu kupat\"]\n",
    "makanan = input(\"Masukkan nama makanan: \")\n",
    "\n",
    "for i in makanan_daerah:\n",
    "    if i == makanan:\n",
    "        break\n",
    "\n",
    "if i == makanan:\n",
    "    print(makanan, \"adalah makanan khas daerah.\")\n",
    "else:\n",
    "    print(makanan, \"bukan makanan khas daerah.\")"
   ]
  },
  {
   "attachments": {},
   "cell_type": "markdown",
   "metadata": {},
   "source": [
    "3. Buatlah program untuk menghitung rata-rata 7 bilangan dimana bilangan-bilangan tersebut didapat melalui input user!"
   ]
  },
  {
   "cell_type": "code",
   "execution_count": 6,
   "metadata": {},
   "outputs": [
    {
     "name": "stdout",
     "output_type": "stream",
     "text": [
      "Rata-rata dari bilangan [3.0, 4.0, 1.0, 7.0, 9.0, 10.0, 23.0] adalah 8.142857142857142\n"
     ]
    }
   ],
   "source": [
    "# Kerjakan nomor 3 di sini\n",
    "listbilangan = []\n",
    "for i in range(7):\n",
    "    bilangan = float(input(\"Masukkan bilangan: \"))\n",
    "    listbilangan.append(bilangan)\n",
    "    rata_rata = sum(listbilangan)/len(listbilangan)\n",
    "\n",
    "print(\"Rata-rata dari bilangan\", listbilangan, \"adalah\", rata_rata)"
   ]
  }
 ],
 "metadata": {
  "kernelspec": {
   "display_name": "Python 3",
   "language": "python",
   "name": "python3"
  },
  "language_info": {
   "codemirror_mode": {
    "name": "ipython",
    "version": 3
   },
   "file_extension": ".py",
   "mimetype": "text/x-python",
   "name": "python",
   "nbconvert_exporter": "python",
   "pygments_lexer": "ipython3",
   "version": "3.10.8"
  },
  "orig_nbformat": 4
 },
 "nbformat": 4,
 "nbformat_minor": 2
}
